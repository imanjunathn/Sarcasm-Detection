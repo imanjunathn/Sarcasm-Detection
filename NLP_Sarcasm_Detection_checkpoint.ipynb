{
  "nbformat": 4,
  "nbformat_minor": 0,
  "metadata": {
    "accelerator": "GPU",
    "colab": {
      "name": "NLP - Sarcasm Detection-checkpoint.ipynb",
      "provenance": [],
      "collapsed_sections": []
    },
    "kernelspec": {
      "display_name": "Python 3",
      "language": "python",
      "name": "python3"
    },
    "language_info": {
      "codemirror_mode": {
        "name": "ipython",
        "version": 3
      },
      "file_extension": ".py",
      "mimetype": "text/x-python",
      "name": "python",
      "nbconvert_exporter": "python",
      "pygments_lexer": "ipython3",
      "version": "3.7.6"
    }
  },
  "cells": [
    {
      "cell_type": "markdown",
      "metadata": {
        "colab_type": "text",
        "id": "bI7SIeJ_oZMU"
      },
      "source": [
        "![alt text](https://drive.google.com/uc?export=view&id=1UXScsVx_Wni_JuDdB8LeTnM6jsPfIwkW)\n",
        "\n",
        "Proprietary content. © Great Learning. All Rights Reserved. Unauthorized use or distribution prohibited."
      ]
    },
    {
      "cell_type": "markdown",
      "metadata": {
        "colab_type": "text",
        "id": "Eukag7wEoPZu"
      },
      "source": [
        "### Package Version:\n",
        "- tensorflow==2.2.0\n",
        "- pandas==1.0.5\n",
        "- numpy==1.18.5\n",
        "- google==2.0.3"
      ]
    },
    {
      "cell_type": "markdown",
      "metadata": {
        "colab_type": "text",
        "id": "pp68FAQf9aMN"
      },
      "source": [
        "# Sarcasm Detection"
      ]
    },
    {
      "cell_type": "markdown",
      "metadata": {
        "colab_type": "text",
        "id": "bEahVPtWX5ve"
      },
      "source": [
        "### Dataset\n",
        "\n",
        "#### Acknowledgement\n",
        "Misra, Rishabh, and Prahal Arora. \"Sarcasm Detection using Hybrid Neural Network.\" arXiv preprint arXiv:1908.07414 (2019).\n",
        "\n",
        "**Required Files given in below link.**\n",
        "\n",
        "https://drive.google.com/drive/folders/1xUnF35naPGU63xwRDVGc-DkZ3M8V5mMk"
      ]
    },
    {
      "cell_type": "markdown",
      "metadata": {
        "colab_type": "text",
        "id": "vAk6BRUh8CqL"
      },
      "source": [
        "### Load Data (3 Marks)"
      ]
    },
    {
      "cell_type": "code",
      "metadata": {
        "colab_type": "code",
        "id": "v8-PQsV0DrAZ",
        "colab": {
          "base_uri": "https://localhost:8080/",
          "height": 34
        },
        "outputId": "ab59662f-6ef0-45c1-937f-36d6c856d78e"
      },
      "source": [
        "from google.colab import drive\n",
        "drive.mount('/content/gdrive/',force_remount=True)"
      ],
      "execution_count": 1,
      "outputs": [
        {
          "output_type": "stream",
          "text": [
            "Mounted at /content/gdrive/\n"
          ],
          "name": "stdout"
        }
      ]
    },
    {
      "cell_type": "code",
      "metadata": {
        "id": "F54sy9_Q0R8K",
        "colab_type": "code",
        "colab": {}
      },
      "source": [
        "import pandas as pd\n",
        "import numpy as np\n",
        "import hyperas"
      ],
      "execution_count": 4,
      "outputs": []
    },
    {
      "cell_type": "code",
      "metadata": {
        "id": "bBYGymUBuJ91",
        "colab_type": "code",
        "colab": {}
      },
      "source": [
        "dataPath = '/content/gdrive/My Drive/AIML/NLP/Sarcasm_Detection/Sarcasm_Detection_Data/Data/'\n",
        "jsonFilePath = '/content/gdrive/My Drive/AIML/NLP/Sarcasm_Detection/Sarcasm_Detection_Data/Data/Sarcasm_Headlines_Dataset.json'\n",
        "glove200_FilePath = '/content/gdrive/My Drive/AIML/NLP/Sarcasm_Detection/Sarcasm_Detection_Data/Data/glove.6B.200d.txt'\n",
        "word2Vec_FilePath = '/content/gdrive/My Drive/AIML/NLP/Sarcasm_Detection/Sarcasm_Detection_Data/Data/glove.6B.200d_txt.word2vec'"
      ],
      "execution_count": 5,
      "outputs": []
    },
    {
      "cell_type": "markdown",
      "metadata": {
        "id": "539NCKFYOXVS",
        "colab_type": "text"
      },
      "source": [
        ""
      ]
    },
    {
      "cell_type": "code",
      "metadata": {
        "id": "cGZ8igTs0PRM",
        "colab_type": "code",
        "colab": {}
      },
      "source": [
        "sarcasm_df = pd.read_json(jsonFilePath,lines=True)"
      ],
      "execution_count": 6,
      "outputs": []
    },
    {
      "cell_type": "code",
      "metadata": {
        "id": "UmLW9ZGHkG1W",
        "colab_type": "code",
        "colab": {
          "base_uri": "https://localhost:8080/",
          "height": 204
        },
        "outputId": "1f0dd76a-a6de-4d36-8b84-418ec688e43d"
      },
      "source": [
        "sarcasm_df.head()"
      ],
      "execution_count": 7,
      "outputs": [
        {
          "output_type": "execute_result",
          "data": {
            "text/html": [
              "<div>\n",
              "<style scoped>\n",
              "    .dataframe tbody tr th:only-of-type {\n",
              "        vertical-align: middle;\n",
              "    }\n",
              "\n",
              "    .dataframe tbody tr th {\n",
              "        vertical-align: top;\n",
              "    }\n",
              "\n",
              "    .dataframe thead th {\n",
              "        text-align: right;\n",
              "    }\n",
              "</style>\n",
              "<table border=\"1\" class=\"dataframe\">\n",
              "  <thead>\n",
              "    <tr style=\"text-align: right;\">\n",
              "      <th></th>\n",
              "      <th>article_link</th>\n",
              "      <th>headline</th>\n",
              "      <th>is_sarcastic</th>\n",
              "    </tr>\n",
              "  </thead>\n",
              "  <tbody>\n",
              "    <tr>\n",
              "      <th>0</th>\n",
              "      <td>https://www.huffingtonpost.com/entry/versace-b...</td>\n",
              "      <td>former versace store clerk sues over secret 'b...</td>\n",
              "      <td>0</td>\n",
              "    </tr>\n",
              "    <tr>\n",
              "      <th>1</th>\n",
              "      <td>https://www.huffingtonpost.com/entry/roseanne-...</td>\n",
              "      <td>the 'roseanne' revival catches up to our thorn...</td>\n",
              "      <td>0</td>\n",
              "    </tr>\n",
              "    <tr>\n",
              "      <th>2</th>\n",
              "      <td>https://local.theonion.com/mom-starting-to-fea...</td>\n",
              "      <td>mom starting to fear son's web series closest ...</td>\n",
              "      <td>1</td>\n",
              "    </tr>\n",
              "    <tr>\n",
              "      <th>3</th>\n",
              "      <td>https://politics.theonion.com/boehner-just-wan...</td>\n",
              "      <td>boehner just wants wife to listen, not come up...</td>\n",
              "      <td>1</td>\n",
              "    </tr>\n",
              "    <tr>\n",
              "      <th>4</th>\n",
              "      <td>https://www.huffingtonpost.com/entry/jk-rowlin...</td>\n",
              "      <td>j.k. rowling wishes snape happy birthday in th...</td>\n",
              "      <td>0</td>\n",
              "    </tr>\n",
              "  </tbody>\n",
              "</table>\n",
              "</div>"
            ],
            "text/plain": [
              "                                        article_link  ... is_sarcastic\n",
              "0  https://www.huffingtonpost.com/entry/versace-b...  ...            0\n",
              "1  https://www.huffingtonpost.com/entry/roseanne-...  ...            0\n",
              "2  https://local.theonion.com/mom-starting-to-fea...  ...            1\n",
              "3  https://politics.theonion.com/boehner-just-wan...  ...            1\n",
              "4  https://www.huffingtonpost.com/entry/jk-rowlin...  ...            0\n",
              "\n",
              "[5 rows x 3 columns]"
            ]
          },
          "metadata": {
            "tags": []
          },
          "execution_count": 7
        }
      ]
    },
    {
      "cell_type": "markdown",
      "metadata": {
        "colab_type": "text",
        "id": "z6pXf7A78E2H"
      },
      "source": [
        "### Drop `article_link` from dataset (3 Marks)"
      ]
    },
    {
      "cell_type": "code",
      "metadata": {
        "colab_type": "code",
        "id": "-WUNHq5zEV0n",
        "colab": {}
      },
      "source": [
        "sarcasm_df.drop(columns=['article_link'],inplace=True)"
      ],
      "execution_count": 8,
      "outputs": []
    },
    {
      "cell_type": "code",
      "metadata": {
        "id": "yhUKauqUlCQ2",
        "colab_type": "code",
        "colab": {
          "base_uri": "https://localhost:8080/",
          "height": 204
        },
        "outputId": "4f6455eb-c585-415d-c4de-b59a3d5edda4"
      },
      "source": [
        "sarcasm_df.head()"
      ],
      "execution_count": 9,
      "outputs": [
        {
          "output_type": "execute_result",
          "data": {
            "text/html": [
              "<div>\n",
              "<style scoped>\n",
              "    .dataframe tbody tr th:only-of-type {\n",
              "        vertical-align: middle;\n",
              "    }\n",
              "\n",
              "    .dataframe tbody tr th {\n",
              "        vertical-align: top;\n",
              "    }\n",
              "\n",
              "    .dataframe thead th {\n",
              "        text-align: right;\n",
              "    }\n",
              "</style>\n",
              "<table border=\"1\" class=\"dataframe\">\n",
              "  <thead>\n",
              "    <tr style=\"text-align: right;\">\n",
              "      <th></th>\n",
              "      <th>headline</th>\n",
              "      <th>is_sarcastic</th>\n",
              "    </tr>\n",
              "  </thead>\n",
              "  <tbody>\n",
              "    <tr>\n",
              "      <th>0</th>\n",
              "      <td>former versace store clerk sues over secret 'b...</td>\n",
              "      <td>0</td>\n",
              "    </tr>\n",
              "    <tr>\n",
              "      <th>1</th>\n",
              "      <td>the 'roseanne' revival catches up to our thorn...</td>\n",
              "      <td>0</td>\n",
              "    </tr>\n",
              "    <tr>\n",
              "      <th>2</th>\n",
              "      <td>mom starting to fear son's web series closest ...</td>\n",
              "      <td>1</td>\n",
              "    </tr>\n",
              "    <tr>\n",
              "      <th>3</th>\n",
              "      <td>boehner just wants wife to listen, not come up...</td>\n",
              "      <td>1</td>\n",
              "    </tr>\n",
              "    <tr>\n",
              "      <th>4</th>\n",
              "      <td>j.k. rowling wishes snape happy birthday in th...</td>\n",
              "      <td>0</td>\n",
              "    </tr>\n",
              "  </tbody>\n",
              "</table>\n",
              "</div>"
            ],
            "text/plain": [
              "                                            headline  is_sarcastic\n",
              "0  former versace store clerk sues over secret 'b...             0\n",
              "1  the 'roseanne' revival catches up to our thorn...             0\n",
              "2  mom starting to fear son's web series closest ...             1\n",
              "3  boehner just wants wife to listen, not come up...             1\n",
              "4  j.k. rowling wishes snape happy birthday in th...             0"
            ]
          },
          "metadata": {
            "tags": []
          },
          "execution_count": 9
        }
      ]
    },
    {
      "cell_type": "markdown",
      "metadata": {
        "colab_type": "text",
        "id": "D0h6IOxU8OdH"
      },
      "source": [
        "### Get length of each headline and add a column for that (3 Marks)"
      ]
    },
    {
      "cell_type": "code",
      "metadata": {
        "colab_type": "code",
        "id": "MLpiBRDmEV2l",
        "colab": {}
      },
      "source": [
        "sarcasm_df['headline_length'] = sarcasm_df.headline.str.len()"
      ],
      "execution_count": 10,
      "outputs": []
    },
    {
      "cell_type": "code",
      "metadata": {
        "id": "jTwBZ4VMmC7A",
        "colab_type": "code",
        "colab": {
          "base_uri": "https://localhost:8080/",
          "height": 204
        },
        "outputId": "f68dd157-2449-4e4a-cebc-ac8e42894584"
      },
      "source": [
        "sarcasm_df.head()"
      ],
      "execution_count": 11,
      "outputs": [
        {
          "output_type": "execute_result",
          "data": {
            "text/html": [
              "<div>\n",
              "<style scoped>\n",
              "    .dataframe tbody tr th:only-of-type {\n",
              "        vertical-align: middle;\n",
              "    }\n",
              "\n",
              "    .dataframe tbody tr th {\n",
              "        vertical-align: top;\n",
              "    }\n",
              "\n",
              "    .dataframe thead th {\n",
              "        text-align: right;\n",
              "    }\n",
              "</style>\n",
              "<table border=\"1\" class=\"dataframe\">\n",
              "  <thead>\n",
              "    <tr style=\"text-align: right;\">\n",
              "      <th></th>\n",
              "      <th>headline</th>\n",
              "      <th>is_sarcastic</th>\n",
              "      <th>headline_length</th>\n",
              "    </tr>\n",
              "  </thead>\n",
              "  <tbody>\n",
              "    <tr>\n",
              "      <th>0</th>\n",
              "      <td>former versace store clerk sues over secret 'b...</td>\n",
              "      <td>0</td>\n",
              "      <td>78</td>\n",
              "    </tr>\n",
              "    <tr>\n",
              "      <th>1</th>\n",
              "      <td>the 'roseanne' revival catches up to our thorn...</td>\n",
              "      <td>0</td>\n",
              "      <td>84</td>\n",
              "    </tr>\n",
              "    <tr>\n",
              "      <th>2</th>\n",
              "      <td>mom starting to fear son's web series closest ...</td>\n",
              "      <td>1</td>\n",
              "      <td>79</td>\n",
              "    </tr>\n",
              "    <tr>\n",
              "      <th>3</th>\n",
              "      <td>boehner just wants wife to listen, not come up...</td>\n",
              "      <td>1</td>\n",
              "      <td>84</td>\n",
              "    </tr>\n",
              "    <tr>\n",
              "      <th>4</th>\n",
              "      <td>j.k. rowling wishes snape happy birthday in th...</td>\n",
              "      <td>0</td>\n",
              "      <td>64</td>\n",
              "    </tr>\n",
              "  </tbody>\n",
              "</table>\n",
              "</div>"
            ],
            "text/plain": [
              "                                            headline  ...  headline_length\n",
              "0  former versace store clerk sues over secret 'b...  ...               78\n",
              "1  the 'roseanne' revival catches up to our thorn...  ...               84\n",
              "2  mom starting to fear son's web series closest ...  ...               79\n",
              "3  boehner just wants wife to listen, not come up...  ...               84\n",
              "4  j.k. rowling wishes snape happy birthday in th...  ...               64\n",
              "\n",
              "[5 rows x 3 columns]"
            ]
          },
          "metadata": {
            "tags": []
          },
          "execution_count": 11
        }
      ]
    },
    {
      "cell_type": "code",
      "metadata": {
        "id": "LK2V0agOp4SV",
        "colab_type": "code",
        "colab": {
          "base_uri": "https://localhost:8080/",
          "height": 34
        },
        "outputId": "c8aad4a2-2e0a-4d04-d425-58c2ab150761"
      },
      "source": [
        "sarcasm_df.is_sarcastic.unique()"
      ],
      "execution_count": 12,
      "outputs": [
        {
          "output_type": "execute_result",
          "data": {
            "text/plain": [
              "array([0, 1])"
            ]
          },
          "metadata": {
            "tags": []
          },
          "execution_count": 12
        }
      ]
    },
    {
      "cell_type": "code",
      "metadata": {
        "id": "DtPdGo1dqCGO",
        "colab_type": "code",
        "colab": {
          "base_uri": "https://localhost:8080/",
          "height": 35
        },
        "outputId": "2aa898f0-e92b-4734-f0ea-8254eef9d8b0"
      },
      "source": [
        "sarcasm_df.headline[0]"
      ],
      "execution_count": 13,
      "outputs": [
        {
          "output_type": "execute_result",
          "data": {
            "application/vnd.google.colaboratory.intrinsic+json": {
              "type": "string"
            },
            "text/plain": [
              "\"former versace store clerk sues over secret 'black code' for minority shoppers\""
            ]
          },
          "metadata": {
            "tags": []
          },
          "execution_count": 13
        }
      ]
    },
    {
      "cell_type": "markdown",
      "metadata": {
        "colab_type": "text",
        "id": "SMF-wjJ2aMwm"
      },
      "source": [
        "### Initialize parameter values\n",
        "- Set values for max_features, maxlen, & embedding_size\n",
        "- max_features: Number of words to take from tokenizer(most frequent words)\n",
        "- maxlen: Maximum length of each sentence to be limited to 25\n",
        "- embedding_size: size of embedding vector"
      ]
    },
    {
      "cell_type": "code",
      "metadata": {
        "colab_type": "code",
        "id": "jPw9gAN_EV6m",
        "colab": {}
      },
      "source": [
        "max_features = 10000\n",
        "maxlen = 25\n",
        "embedding_size = 200"
      ],
      "execution_count": 14,
      "outputs": []
    },
    {
      "cell_type": "markdown",
      "metadata": {
        "colab_type": "text",
        "id": "9abSe-bM8fn9"
      },
      "source": [
        "### Apply `tensorflow.keras` Tokenizer and get indices for words (3 Marks)\n",
        "- Initialize Tokenizer object with number of words as 10000\n",
        "- Fit the tokenizer object on headline column\n",
        "- Convert the text to sequence\n"
      ]
    },
    {
      "cell_type": "code",
      "metadata": {
        "colab_type": "code",
        "id": "y8g4l0KfF3eh",
        "colab": {}
      },
      "source": [
        "from tensorflow.keras.preprocessing.text import Tokenizer\n",
        "import re"
      ],
      "execution_count": 15,
      "outputs": []
    },
    {
      "cell_type": "code",
      "metadata": {
        "id": "pZyLmJWQmyuo",
        "colab_type": "code",
        "colab": {}
      },
      "source": [
        "def preprocessing(df):\n",
        "  data = df.copy(True)\n",
        "  data['headline'] = data['headline'].apply(lambda x: x.lower())\n",
        "  pattern = '[^a-zA-Z0-9\\s]'\n",
        "  data['headline'] = data['headline'].apply((lambda x: re.sub(pattern,'',x)))\n",
        "  return data\n",
        "\n",
        "data = preprocessing(sarcasm_df)\n",
        "tokenizer = Tokenizer(num_words=max_features,split=' ')\n",
        "tokenizer.fit_on_texts(data['headline'].values)\n",
        "sequences = tokenizer.texts_to_sequences(data['headline'].values)"
      ],
      "execution_count": 16,
      "outputs": []
    },
    {
      "cell_type": "code",
      "metadata": {
        "id": "Map0De13tT8G",
        "colab_type": "code",
        "colab": {
          "base_uri": "https://localhost:8080/",
          "height": 34
        },
        "outputId": "8febdc64-e877-4adf-c0e2-f1315ccf534e"
      },
      "source": [
        "len(sarcasm_df.headline[0])"
      ],
      "execution_count": 17,
      "outputs": [
        {
          "output_type": "execute_result",
          "data": {
            "text/plain": [
              "78"
            ]
          },
          "metadata": {
            "tags": []
          },
          "execution_count": 17
        }
      ]
    },
    {
      "cell_type": "code",
      "metadata": {
        "id": "-lHO0IOGtGX4",
        "colab_type": "code",
        "colab": {
          "base_uri": "https://localhost:8080/",
          "height": 35
        },
        "outputId": "07ac662d-211a-49fb-f392-fb768fabd65e"
      },
      "source": [
        "data.headline[0]"
      ],
      "execution_count": 18,
      "outputs": [
        {
          "output_type": "execute_result",
          "data": {
            "application/vnd.google.colaboratory.intrinsic+json": {
              "type": "string"
            },
            "text/plain": [
              "'former versace store clerk sues over secret black code for minority shoppers'"
            ]
          },
          "metadata": {
            "tags": []
          },
          "execution_count": 18
        }
      ]
    },
    {
      "cell_type": "code",
      "metadata": {
        "id": "lrHn_0d9q7Aj",
        "colab_type": "code",
        "colab": {
          "base_uri": "https://localhost:8080/",
          "height": 34
        },
        "outputId": "0ad4c12d-c868-4c8d-aab8-20f7555d07c8"
      },
      "source": [
        "sequences[0]"
      ],
      "execution_count": 19,
      "outputs": [
        {
          "output_type": "execute_result",
          "data": {
            "text/plain": [
              "[293, 795, 3551, 2241, 47, 359, 92, 2138, 5, 2509, 8285]"
            ]
          },
          "metadata": {
            "tags": []
          },
          "execution_count": 19
        }
      ]
    },
    {
      "cell_type": "markdown",
      "metadata": {
        "colab_type": "text",
        "id": "xeZpwPO4bOkZ"
      },
      "source": [
        "### Pad sequences (3 Marks)\n",
        "- Pad each example with a maximum length\n",
        "- Convert target column into numpy array"
      ]
    },
    {
      "cell_type": "code",
      "metadata": {
        "colab_type": "code",
        "id": "qV0K70E5c9Xl",
        "colab": {}
      },
      "source": [
        "from tensorflow.keras.preprocessing.sequence import pad_sequences\n",
        "after_padding_sequence = pad_sequences(sequences,maxlen=maxlen,padding='post',truncating='post')"
      ],
      "execution_count": 20,
      "outputs": []
    },
    {
      "cell_type": "code",
      "metadata": {
        "id": "_lH2JoNsvVLF",
        "colab_type": "code",
        "colab": {
          "base_uri": "https://localhost:8080/",
          "height": 68
        },
        "outputId": "1f403c8a-e358-472b-cb51-07ae3bb0a3b1"
      },
      "source": [
        "after_padding_sequence[0]"
      ],
      "execution_count": 21,
      "outputs": [
        {
          "output_type": "execute_result",
          "data": {
            "text/plain": [
              "array([ 293,  795, 3551, 2241,   47,  359,   92, 2138,    5, 2509, 8285,\n",
              "          0,    0,    0,    0,    0,    0,    0,    0,    0,    0,    0,\n",
              "          0,    0,    0], dtype=int32)"
            ]
          },
          "metadata": {
            "tags": []
          },
          "execution_count": 21
        }
      ]
    },
    {
      "cell_type": "markdown",
      "metadata": {
        "colab_type": "text",
        "id": "WJLyKg-98rH_"
      },
      "source": [
        "### Vocab mapping\n",
        "- There is no word for 0th index"
      ]
    },
    {
      "cell_type": "code",
      "metadata": {
        "colab_type": "code",
        "id": "vCNgtnQqdbZn",
        "colab": {}
      },
      "source": [
        "tokenizer.word_index"
      ],
      "execution_count": null,
      "outputs": []
    },
    {
      "cell_type": "markdown",
      "metadata": {
        "colab_type": "text",
        "id": "VRiNX58Rb3oJ"
      },
      "source": [
        "### Set number of words\n",
        "- Since the above 0th index doesn't have a word, add 1 to the length of the vocabulary"
      ]
    },
    {
      "cell_type": "code",
      "metadata": {
        "colab_type": "code",
        "id": "Dfwq6ou8ck2f",
        "colab": {
          "base_uri": "https://localhost:8080/",
          "height": 34
        },
        "outputId": "b9af35a8-e147-4da4-863d-366259f156de"
      },
      "source": [
        "num_words = len(tokenizer.word_index) + 1\n",
        "print(num_words)"
      ],
      "execution_count": 94,
      "outputs": [
        {
          "output_type": "stream",
          "text": [
            "28400\n"
          ],
          "name": "stdout"
        }
      ]
    },
    {
      "cell_type": "markdown",
      "metadata": {
        "colab_type": "text",
        "id": "bUF1TuQa8ux0"
      },
      "source": [
        "### Load Glove Word Embeddings (3 Marks)"
      ]
    },
    {
      "cell_type": "code",
      "metadata": {
        "colab_type": "code",
        "id": "vq5AIfRtMeZh",
        "colab": {
          "base_uri": "https://localhost:8080/",
          "height": 71
        },
        "outputId": "7d346ff2-3026-4b13-f411-626db0e025f4"
      },
      "source": [
        "from gensim.models import  KeyedVectors\n",
        "from gensim.scripts.glove2word2vec import glove2word2vec\n",
        "\n",
        "glove2word2vec(glove200_FilePath,'glove.6B.200d_txt.word2vec')\n",
        "model = KeyedVectors.load_word2vec_format('glove.6B.200d_txt.word2vec')\n"
      ],
      "execution_count": 23,
      "outputs": [
        {
          "output_type": "stream",
          "text": [
            "/usr/local/lib/python3.6/dist-packages/smart_open/smart_open_lib.py:254: UserWarning: This function is deprecated, use smart_open.open instead. See the migration notes for details: https://github.com/RaRe-Technologies/smart_open/blob/master/README.rst#migrating-to-the-new-open-function\n",
            "  'See the migration notes for details: %s' % _MIGRATION_NOTES_URL\n"
          ],
          "name": "stderr"
        }
      ]
    },
    {
      "cell_type": "markdown",
      "metadata": {
        "colab_type": "text",
        "id": "prHSzdQUcZhm"
      },
      "source": [
        "### Create embedding matrix"
      ]
    },
    {
      "cell_type": "code",
      "metadata": {
        "colab_type": "code",
        "id": "elZ-T5aFGZmZ",
        "colab": {}
      },
      "source": [
        "def embedMatrix():\n",
        "  EMBEDDING_FILE =  glove200_FilePath\n",
        "  # ./glove.6B.200d.txt'\n",
        "\n",
        "  embeddings = {}\n",
        "  for o in open(EMBEDDING_FILE):\n",
        "      word = o.split(\" \")[0]\n",
        "      # print(word)\n",
        "      embd = o.split(\" \")[1:]\n",
        "      embd = np.asarray(embd, dtype='float32')\n",
        "      # print(embd)\n",
        "      embeddings[word] = embd\n",
        "\n",
        "  # create a weight matrix for words in training docs\n",
        "  embedding_matrix = np.zeros((num_words, 200))\n",
        "\n",
        "  for word, i in tokenizer.word_index.items():\n",
        "    embedding_vector = embeddings.get(word)\n",
        "    if embedding_vector is not None:\n",
        "      embedding_matrix[i] = embedding_vector\n",
        "\n",
        "  return embedding_matrix\n",
        "\n",
        "embedding_matrix = embedMatrix() "
      ],
      "execution_count": 115,
      "outputs": []
    },
    {
      "cell_type": "code",
      "metadata": {
        "id": "jjzBryQ82lsv",
        "colab_type": "code",
        "colab": {
          "base_uri": "https://localhost:8080/",
          "height": 867
        },
        "outputId": "f5041cd1-a91d-4d92-de04-ae6d726a157d"
      },
      "source": [
        "print(embedding_matrix[1])"
      ],
      "execution_count": 116,
      "outputs": [
        {
          "output_type": "stream",
          "text": [
            "[ 5.73459983e-01  5.41700006e-01 -2.34770000e-01 -3.62399995e-01\n",
            "  4.03699994e-01  1.13860004e-01 -4.49330002e-01 -3.09909999e-01\n",
            " -5.34110004e-03  5.84259987e-01 -2.59559993e-02  4.93930012e-01\n",
            " -3.72090004e-02 -2.84280002e-01  9.76959988e-02 -4.89069998e-01\n",
            "  2.60269996e-02  3.76489997e-01  5.77879995e-02 -4.68070000e-01\n",
            "  8.12880024e-02  3.28250003e+00 -6.36900008e-01  3.79559994e-01\n",
            "  3.81670007e-03  9.36070010e-02 -1.28549993e-01  1.73800007e-01\n",
            "  1.05219997e-01  2.86480010e-01  2.10889995e-01 -4.70759988e-01\n",
            "  2.77330000e-02 -1.98029995e-01  7.63280019e-02 -8.46289992e-01\n",
            " -7.97079980e-01 -3.87430012e-01 -3.04220002e-02 -2.68489987e-01\n",
            "  4.85850006e-01  1.28950000e-01  3.83540004e-01  3.87219995e-01\n",
            " -3.85239989e-01  1.90750003e-01  4.89980012e-01  1.32780001e-01\n",
            "  1.07920002e-02  2.67699987e-01  1.78120002e-01 -1.14330001e-01\n",
            " -3.34939986e-01  8.73059988e-01  7.58750021e-01 -3.03779989e-01\n",
            " -1.56259999e-01  1.20850001e-03  2.33219996e-01  2.79529989e-01\n",
            " -1.84939995e-01 -1.41460001e-01 -1.89689994e-01 -3.83859985e-02\n",
            "  3.58740002e-01  6.55129999e-02  6.05649985e-02  6.63389981e-01\n",
            " -8.32519978e-02  6.51630014e-02  5.17610013e-01  1.61709994e-01\n",
            "  4.60110009e-01  1.63880005e-01 -1.23989999e-01  3.11219990e-01\n",
            " -1.54119998e-01 -1.09169997e-01 -4.25509989e-01  1.14179999e-01\n",
            "  2.51370013e-01 -5.61579987e-02 -2.59270012e-01  2.81630009e-01\n",
            " -1.80939995e-02  1.60650000e-01 -4.85060006e-01 -9.89030004e-01\n",
            "  2.50220001e-01 -1.67359993e-01  4.14739996e-01  1.77010000e-01\n",
            "  4.24070001e-01  1.10880002e-01 -1.83599994e-01 -1.24100000e-01\n",
            " -3.47799987e-01  9.90779996e-02 -2.23810002e-01 -1.12450004e-01\n",
            " -2.11559996e-01  3.07060010e-03 -2.36070007e-01  2.72610001e-02\n",
            "  3.64300013e-01  3.99219990e-02 -1.83689997e-01  1.22660005e+00\n",
            " -7.76400030e-01 -6.62249982e-01  1.57239996e-02 -1.49690002e-01\n",
            "  8.46489966e-02  2.68139988e-01 -1.67649999e-01 -3.19420010e-01\n",
            "  2.84940004e-01 -7.00000003e-02  1.20099997e-02 -1.22189999e-01\n",
            "  5.63099980e-01 -3.19999993e-01  5.01089990e-01 -1.02090001e-01\n",
            "  4.65750009e-01 -7.15420008e-01  1.72930002e-01  5.82589984e-01\n",
            "  7.83839971e-02 -3.38440016e-02 -2.51289994e-01  3.65029991e-01\n",
            "  3.15780006e-02 -6.57779992e-01  5.47499992e-02  8.71890008e-01\n",
            "  1.24550000e-01 -4.58770007e-01 -2.69650012e-01 -4.67790008e-01\n",
            " -2.85780011e-03  1.78100005e-01  6.39689982e-01  1.39950007e-01\n",
            "  9.75960016e-01  1.18359998e-01 -6.39039993e-01 -1.54159993e-01\n",
            "  6.52619973e-02  2.43290007e-01  6.64759994e-01  2.50690013e-01\n",
            " -1.02519996e-01 -3.28390002e-01 -8.55590031e-02 -1.27739999e-02\n",
            " -1.94309995e-01  5.61389983e-01 -3.57329994e-01 -2.03439996e-01\n",
            " -1.24130003e-01 -3.44309986e-01 -2.32960001e-01 -2.11870000e-01\n",
            "  8.53869990e-02  7.00630024e-02 -1.98029995e-01 -2.60230005e-02\n",
            " -3.90370011e-01  8.00019979e-01  4.05770004e-01 -7.98629969e-02\n",
            "  3.52629989e-01 -3.40429991e-01  3.96759987e-01  2.28619993e-01\n",
            " -3.50279987e-01 -4.73439991e-01  5.97419977e-01 -1.16570003e-01\n",
            "  1.05519998e+00 -4.15699989e-01 -8.05519968e-02 -5.65709993e-02\n",
            " -1.66219994e-01  1.92739993e-01 -9.51749980e-02 -2.07810000e-01\n",
            "  1.56200007e-01  5.02309985e-02 -2.79150009e-01  4.37420011e-01\n",
            " -3.12370002e-01  1.31940007e-01 -3.32780004e-01  1.88769996e-01\n",
            " -2.34219998e-01  5.44179976e-01 -2.30690002e-01  3.49469990e-01]\n"
          ],
          "name": "stdout"
        }
      ]
    },
    {
      "cell_type": "code",
      "metadata": {
        "colab_type": "code",
        "id": "NN789zNnJ5PL",
        "colab": {}
      },
      "source": [
        "from sklearn.model_selection import train_test_split"
      ],
      "execution_count": 28,
      "outputs": []
    },
    {
      "cell_type": "code",
      "metadata": {
        "id": "-vj5WBsBYpEM",
        "colab_type": "code",
        "colab": {
          "base_uri": "https://localhost:8080/",
          "height": 34
        },
        "outputId": "352f24e6-7d2f-45a8-d5fe-e884a85224cc"
      },
      "source": [
        "y =  data.is_sarcastic.values\n",
        "type(y)"
      ],
      "execution_count": 29,
      "outputs": [
        {
          "output_type": "execute_result",
          "data": {
            "text/plain": [
              "numpy.ndarray"
            ]
          },
          "metadata": {
            "tags": []
          },
          "execution_count": 29
        }
      ]
    },
    {
      "cell_type": "code",
      "metadata": {
        "id": "lcTS98ZnY4EX",
        "colab_type": "code",
        "colab": {}
      },
      "source": [
        "X_train,X_test,y_train,y_test = train_test_split(after_padding_sequence,y,test_size=0.2,random_state=42)"
      ],
      "execution_count": 30,
      "outputs": []
    },
    {
      "cell_type": "code",
      "metadata": {
        "id": "8gPrMgw6Y50H",
        "colab_type": "code",
        "colab": {
          "base_uri": "https://localhost:8080/",
          "height": 51
        },
        "outputId": "61d2601d-de02-465a-8c67-2740e8318285"
      },
      "source": [
        "print(X_train.shape,y_train.shape)\n",
        "print(X_test.shape,y_test.shape)"
      ],
      "execution_count": 62,
      "outputs": [
        {
          "output_type": "stream",
          "text": [
            "(21367, 25) (21367,)\n",
            "(5342, 25) (5342,)\n"
          ],
          "name": "stdout"
        }
      ]
    },
    {
      "cell_type": "markdown",
      "metadata": {
        "colab_type": "text",
        "id": "u7IbWuEX82Ra"
      },
      "source": [
        "### Define model (5 Marks)\n",
        "- Hint: Use Sequential model instance and then add Embedding layer, Bidirectional(LSTM) layer, then dense and dropout layers as required. \n",
        "In the end add a final dense layer with sigmoid activation for binary classification."
      ]
    },
    {
      "cell_type": "code",
      "metadata": {
        "colab_type": "code",
        "id": "4tv168Gmc3PY",
        "colab": {}
      },
      "source": [
        "from tensorflow.keras.models import Sequential\n",
        "from tensorflow.keras.layers import Embedding,Dense,Bidirectional,LSTM, Dropout,SeparableConv1D,Activation\n",
        "from tensorflow.keras.utils import  plot_model\n",
        "\n",
        "from hyperas.distributions import  uniform,choice\n",
        "from hyperas import optim\n",
        "from hyperopt import Trials, STATUS_OK, tpe"
      ],
      "execution_count": 54,
      "outputs": []
    },
    {
      "cell_type": "code",
      "metadata": {
        "id": "fNjGP2ypv3fB",
        "colab_type": "code",
        "colab": {
          "base_uri": "https://localhost:8080/",
          "height": 1000
        },
        "outputId": "bc361c2e-9c7a-4e84-d217-79ad4844f557"
      },
      "source": [
        "# hyper parameter tunning\n",
        "\n",
        "def data():\n",
        "  return X_train, y_train, X_test, y_test\n",
        "\n",
        "def create_model(X_train, y_train, X_test, y_test,):\n",
        "  vocab_size = 28400\n",
        "  max_features = 10000\n",
        "  maxlen = 25\n",
        "  embedding_size = 200\n",
        "\n",
        "  sarcasm_df = pd.read_json('/content/gdrive/My Drive/AIML/NLP/Sarcasm_Detection/Sarcasm_Detection_Data/Data/Sarcasm_Headlines_Dataset.json',lines=True)\n",
        "  data_df = sarcasm_df.copy(True)\n",
        "  data_df['headline'] = data_df['headline'].apply(lambda x: x.lower())\n",
        "  pattern = '[^a-zA-Z0-9\\s]'\n",
        "  data_df['headline'] = data_df['headline'].apply((lambda x: re.sub(pattern,'',x)))\n",
        " \n",
        "  \n",
        "  tokenizer = Tokenizer(num_words=10000,split=' ')\n",
        "  tokenizer.fit_on_texts(data_df['headline'].values)\n",
        "  sequences = tokenizer.texts_to_sequences(data_df['headline'].values)\n",
        "  after_padding_sequence = pad_sequences(sequences,maxlen=maxlen,padding='post',truncating='post')\n",
        "  y =  data_df.is_sarcastic.values\n",
        "\n",
        "  X_train,X_test,y_train,y_test = train_test_split(after_padding_sequence,y,test_size=0.2,random_state=42)\n",
        "  \n",
        "  EMBEDDING_FILE =  '/content/gdrive/My Drive/AIML/NLP/Sarcasm_Detection/Sarcasm_Detection_Data/Data/glove.6B.200d.txt'\n",
        "  \n",
        "  embeddings = {}\n",
        "  for o in open(EMBEDDING_FILE):\n",
        "      word = o.split(\" \")[0]\n",
        "      # print(word)\n",
        "      embd = o.split(\" \")[1:]\n",
        "      embd = np.asarray(embd, dtype='float32')\n",
        "      # print(embd)\n",
        "      embeddings[word] = embd\n",
        "\n",
        "  # create a weight matrix for words in training docs\n",
        "  embedding_matrix = np.zeros((vocab_size, 200))\n",
        "\n",
        "  for word, i in tokenizer.word_index.items():\n",
        "    embedding_vector = embeddings.get(word)\n",
        "    if embedding_vector is not None:\n",
        "      embedding_matrix[i] = embedding_vector\n",
        "\n",
        "  model = Sequential()\n",
        "  model.add(Embedding(vocab_size,embedding_size,weights=[embedding_matrix],input_length=maxlen))\n",
        "  model.add(Bidirectional(LSTM({{choice([128,256,512])}},dropout={{uniform(0,1)}},return_sequences=True)))\n",
        "  model.add(Dense({{choice([128,256,512])}}))\n",
        "  model.add(Activation({{choice(['relu','sigmoid','tanh'])}}))\n",
        "  model.add(Dropout({{uniform(0,1)}}))\n",
        "  model.add(Dense(1,activation='sigmoid'))\n",
        "\n",
        "  model.compile(optimizer= {{choice(['adam','rmsprop','sgd'])}},loss='binary_crossentropy',metrics=['accuracy'])\n",
        "\n",
        "  result = model.fit(X_train,y_train,\n",
        "                    epochs={{choice([5,10,15,20])}},\n",
        "                    batch_size={{choice([32,64,128])}},\n",
        "                    verbose=2,\n",
        "                    validation_split=0.2) \n",
        "  validation_acc = np.max(result.history['val_accuracy'])\n",
        "  print('Best validation acc of epoch:', validation_acc)\n",
        "  return {'loss': -validation_acc, 'status': STATUS_OK, 'model': model}\n",
        "\n",
        "best_run, best_model = optim.minimize(create_model,\n",
        "              data = data,\n",
        "              algo=tpe.suggest,\n",
        "              max_evals=5,\n",
        "              trials=Trials(),\n",
        "              notebook_name = '/gdrive/My Drive/AIML/NLP/Sarcasm_Detection/Sarcasm-Detection/NLP - Sarcasm Detection-checkpoint'\n",
        "              )\n",
        "\n",
        "print(\"Evalutation of best performing model:\")\n",
        "print(best_model.evaluate(X_test, y_test))\n",
        "print(\"Best performing model chosen hyper-parameters:\")\n",
        "print(best_run)"
      ],
      "execution_count": 153,
      "outputs": [
        {
          "output_type": "stream",
          "text": [
            ">>> Imports:\n",
            "#coding=utf-8\n",
            "\n",
            "try:\n",
            "    from google.colab import drive\n",
            "except:\n",
            "    pass\n",
            "\n",
            "try:\n",
            "    import pandas as pd\n",
            "except:\n",
            "    pass\n",
            "\n",
            "try:\n",
            "    import numpy as np\n",
            "except:\n",
            "    pass\n",
            "\n",
            "try:\n",
            "    import hyperas\n",
            "except:\n",
            "    pass\n",
            "\n",
            "try:\n",
            "    from tensorflow.keras.preprocessing.text import Tokenizer\n",
            "except:\n",
            "    pass\n",
            "\n",
            "try:\n",
            "    import re\n",
            "except:\n",
            "    pass\n",
            "\n",
            "try:\n",
            "    from tensorflow.keras.preprocessing.sequence import pad_sequences\n",
            "except:\n",
            "    pass\n",
            "\n",
            "try:\n",
            "    from gensim.models import KeyedVectors\n",
            "except:\n",
            "    pass\n",
            "\n",
            "try:\n",
            "    from gensim.scripts.glove2word2vec import glove2word2vec\n",
            "except:\n",
            "    pass\n",
            "\n",
            "try:\n",
            "    from sklearn.model_selection import train_test_split\n",
            "except:\n",
            "    pass\n",
            "\n",
            "try:\n",
            "    from tensorflow.keras.models import Sequential\n",
            "except:\n",
            "    pass\n",
            "\n",
            "try:\n",
            "    from tensorflow.keras.layers import Embedding, Dense, Bidirectional, LSTM, Dropout, SeparableConv1D, Activation\n",
            "except:\n",
            "    pass\n",
            "\n",
            "try:\n",
            "    from tensorflow.keras.utils import plot_model\n",
            "except:\n",
            "    pass\n",
            "\n",
            "try:\n",
            "    from hyperas.distributions import uniform, choice\n",
            "except:\n",
            "    pass\n",
            "\n",
            "try:\n",
            "    from hyperas import optim\n",
            "except:\n",
            "    pass\n",
            "\n",
            "try:\n",
            "    from hyperopt import Trials, STATUS_OK, tpe\n",
            "except:\n",
            "    pass\n",
            "\n",
            "try:\n",
            "    from tensorflow.keras.callbacks import EarlyStopping, ModelCheckpoint\n",
            "except:\n",
            "    pass\n",
            "\n",
            "try:\n",
            "    import matplotlib.pyplot as plt\n",
            "except:\n",
            "    pass\n",
            "\n",
            ">>> Hyperas search space:\n",
            "\n",
            "def get_space():\n",
            "    return {\n",
            "        'LSTM': hp.choice('LSTM', [128,256,512]),\n",
            "        'dropout': hp.uniform('dropout', 0,1),\n",
            "        'LSTM_1': hp.choice('LSTM_1', [128,256,512]),\n",
            "        'Activation': hp.choice('Activation', ['relu','sigmoid','tanh']),\n",
            "        'dropout_1': hp.uniform('dropout_1', 0,1),\n",
            "        'optimizer': hp.choice('optimizer', ['adam','rmsprop','sgd']),\n",
            "        'epochs': hp.choice('epochs', [5,10,15,20]),\n",
            "        'batch_size': hp.choice('batch_size', [32,64,128]),\n",
            "    }\n",
            "\n",
            ">>> Data\n",
            "1: \n",
            "2: \n",
            "3: \n",
            "4: \n",
            ">>> Resulting replaced keras model:\n",
            "\n",
            "   1: def keras_fmin_fnct(space):\n",
            "   2: \n",
            "   3:   vocab_size = 28400\n",
            "   4:   max_features = 10000\n",
            "   5:   maxlen = 25\n",
            "   6:   embedding_size = 200\n",
            "   7: \n",
            "   8:   sarcasm_df = pd.read_json('/content/gdrive/My Drive/AIML/NLP/Sarcasm_Detection/Sarcasm_Detection_Data/Data/Sarcasm_Headlines_Dataset.json',lines=True)\n",
            "   9:   data_df = sarcasm_df.copy(True)\n",
            "  10:   data_df['headline'] = data_df['headline'].apply(lambda x: x.lower())\n",
            "  11:   pattern = '[^a-zA-Z0-9\\s]'\n",
            "  12:   data_df['headline'] = data_df['headline'].apply((lambda x: re.sub(pattern,'',x)))\n",
            "  13:  \n",
            "  14:   \n",
            "  15:   tokenizer = Tokenizer(num_words=10000,split=' ')\n",
            "  16:   tokenizer.fit_on_texts(data_df['headline'].values)\n",
            "  17:   sequences = tokenizer.texts_to_sequences(data_df['headline'].values)\n",
            "  18:   after_padding_sequence = pad_sequences(sequences,maxlen=maxlen,padding='post',truncating='post')\n",
            "  19:   y =  data_df.is_sarcastic.values\n",
            "  20: \n",
            "  21:   X_train,X_test,y_train,y_test = train_test_split(after_padding_sequence,y,test_size=0.2,random_state=42)\n",
            "  22:   \n",
            "  23:   EMBEDDING_FILE =  '/content/gdrive/My Drive/AIML/NLP/Sarcasm_Detection/Sarcasm_Detection_Data/Data/glove.6B.200d.txt'\n",
            "  24:   \n",
            "  25:   embeddings = {}\n",
            "  26:   for o in open(EMBEDDING_FILE):\n",
            "  27:       word = o.split(\" \")[0]\n",
            "  28:       # print(word)\n",
            "  29:       embd = o.split(\" \")[1:]\n",
            "  30:       embd = np.asarray(embd, dtype='float32')\n",
            "  31:       # print(embd)\n",
            "  32:       embeddings[word] = embd\n",
            "  33: \n",
            "  34:   # create a weight matrix for words in training docs\n",
            "  35:   embedding_matrix = np.zeros((vocab_size, 200))\n",
            "  36: \n",
            "  37:   for word, i in tokenizer.word_index.items():\n",
            "  38:     embedding_vector = embeddings.get(word)\n",
            "  39:     if embedding_vector is not None:\n",
            "  40:       embedding_matrix[i] = embedding_vector\n",
            "  41: \n",
            "  42:   model = Sequential()\n",
            "  43:   model.add(Embedding(vocab_size,embedding_size,weights=[embedding_matrix],input_length=maxlen))\n",
            "  44:   model.add(Bidirectional(LSTM(space['LSTM'],dropout=space['dropout'],return_sequences=True)))\n",
            "  45:   model.add(Dense(space['LSTM_1']))\n",
            "  46:   model.add(Activation(space['Activation']))\n",
            "  47:   model.add(Dropout(space['dropout_1']))\n",
            "  48:   model.add(Dense(1,activation='sigmoid'))\n",
            "  49: \n",
            "  50:   model.compile(optimizer= space['optimizer'],loss='binary_crossentropy',metrics=['accuracy'])\n",
            "  51: \n",
            "  52:   result = model.fit(X_train,y_train,\n",
            "  53:                     epochs=space['epochs'],\n",
            "  54:                     batch_size=space['batch_size'],\n",
            "  55:                     verbose=2,\n",
            "  56:                     validation_split=0.2) \n",
            "  57:   validation_acc = np.max(result.history['val_accuracy'])\n",
            "  58:   print('Best validation acc of epoch:', validation_acc)\n",
            "  59:   return {'loss': -validation_acc, 'status': STATUS_OK, 'model': model}\n",
            "  60: \n",
            "Epoch 1/10\n",
            "268/268 - 12s - loss: 0.6900 - accuracy: 0.5506 - val_loss: 0.6843 - val_accuracy: 0.5540\n",
            "\n",
            "Epoch 2/10\n",
            "268/268 - 11s - loss: 0.6846 - accuracy: 0.5599 - val_loss: 0.6794 - val_accuracy: 0.5567\n",
            "\n",
            "Epoch 3/10\n",
            "268/268 - 11s - loss: 0.6814 - accuracy: 0.5637 - val_loss: 0.6754 - val_accuracy: 0.5665\n",
            "\n",
            "Epoch 4/10\n",
            "268/268 - 11s - loss: 0.6785 - accuracy: 0.5679 - val_loss: 0.6729 - val_accuracy: 0.5603\n",
            "\n",
            "Epoch 5/10\n",
            "268/268 - 11s - loss: 0.6752 - accuracy: 0.5726 - val_loss: 0.6677 - val_accuracy: 0.5701\n",
            "\n",
            "Epoch 6/10\n",
            "268/268 - 11s - loss: 0.6708 - accuracy: 0.5793 - val_loss: 0.6611 - val_accuracy: 0.5875\n",
            "\n",
            "Epoch 7/10\n",
            "268/268 - 11s - loss: 0.6659 - accuracy: 0.5863 - val_loss: 0.6536 - val_accuracy: 0.5955\n",
            "\n",
            "Epoch 8/10\n",
            "268/268 - 11s - loss: 0.6602 - accuracy: 0.6001 - val_loss: 0.6435 - val_accuracy: 0.6068\n",
            "\n",
            "Epoch 9/10\n",
            "268/268 - 11s - loss: 0.6508 - accuracy: 0.6221 - val_loss: 0.6240 - val_accuracy: 0.6652\n",
            "\n",
            "Epoch 10/10\n",
            "268/268 - 11s - loss: 0.6380 - accuracy: 0.6371 - val_loss: 0.6036 - val_accuracy: 0.6766\n",
            "\n",
            "Best validation acc of epoch:\n",
            "0.6766214370727539\n",
            "Epoch 1/15\n",
            "134/134 - 17s - loss: 0.7245 - accuracy: 0.5505 - val_loss: 0.6875 - val_accuracy: 0.5536\n",
            "\n",
            "Epoch 2/15\n",
            "134/134 - 15s - loss: 0.6869 - accuracy: 0.5627 - val_loss: 0.6871 - val_accuracy: 0.5537\n",
            "\n",
            "Epoch 3/15\n",
            "134/134 - 15s - loss: 0.6495 - accuracy: 0.6158 - val_loss: 0.5216 - val_accuracy: 0.7523\n",
            "\n",
            "Epoch 4/15\n",
            "134/134 - 15s - loss: 0.5356 - accuracy: 0.7377 - val_loss: 0.4050 - val_accuracy: 0.8191\n",
            "\n",
            "Epoch 5/15\n",
            "134/134 - 15s - loss: 0.4587 - accuracy: 0.7891 - val_loss: 0.3676 - val_accuracy: 0.8398\n",
            "\n",
            "Epoch 6/15\n",
            "134/134 - 15s - loss: 0.4076 - accuracy: 0.8186 - val_loss: 0.3566 - val_accuracy: 0.8470\n",
            "\n",
            "Epoch 7/15\n",
            "134/134 - 15s - loss: 0.3789 - accuracy: 0.8371 - val_loss: 0.3488 - val_accuracy: 0.8522\n",
            "\n",
            "Epoch 8/15\n",
            "134/134 - 15s - loss: 0.3544 - accuracy: 0.8502 - val_loss: 0.3395 - val_accuracy: 0.8578\n",
            "\n",
            "Epoch 9/15\n",
            "134/134 - 16s - loss: 0.3364 - accuracy: 0.8601 - val_loss: 0.3137 - val_accuracy: 0.8654\n",
            "\n",
            "Epoch 10/15\n",
            "134/134 - 15s - loss: 0.3147 - accuracy: 0.8680 - val_loss: 0.3115 - val_accuracy: 0.8667\n",
            "\n",
            "Epoch 11/15\n",
            "134/134 - 15s - loss: 0.3000 - accuracy: 0.8754 - val_loss: 0.3110 - val_accuracy: 0.8694\n",
            "\n",
            "Epoch 12/15\n",
            "134/134 - 16s - loss: 0.2867 - accuracy: 0.8812 - val_loss: 0.3169 - val_accuracy: 0.8658\n",
            "\n",
            "Epoch 13/15\n",
            "134/134 - 15s - loss: 0.2742 - accuracy: 0.8867 - val_loss: 0.3079 - val_accuracy: 0.8705\n",
            "\n",
            "Epoch 14/15\n",
            "134/134 - 15s - loss: 0.2560 - accuracy: 0.8971 - val_loss: 0.3175 - val_accuracy: 0.8678\n",
            "\n",
            "Epoch 15/15\n",
            "134/134 - 15s - loss: 0.2507 - accuracy: 0.9000 - val_loss: 0.3444 - val_accuracy: 0.8680\n",
            "\n",
            "Best validation acc of epoch:\n",
            "0.8705100417137146\n",
            "Epoch 1/15\n",
            "134/134 - 8s - loss: 0.6890 - accuracy: 0.5538 - val_loss: 0.6644 - val_accuracy: 0.5883\n",
            "\n",
            "Epoch 2/15\n",
            "134/134 - 7s - loss: 0.6825 - accuracy: 0.5637 - val_loss: 0.6489 - val_accuracy: 0.6808\n",
            "\n",
            "Epoch 3/15\n",
            "134/134 - 6s - loss: 0.6744 - accuracy: 0.5800 - val_loss: 0.6067 - val_accuracy: 0.6929\n",
            "\n",
            "Epoch 4/15\n",
            "134/134 - 6s - loss: 0.6667 - accuracy: 0.5952 - val_loss: 0.5527 - val_accuracy: 0.7133\n",
            "\n",
            "Epoch 5/15\n",
            "134/134 - 6s - loss: 0.6560 - accuracy: 0.6121 - val_loss: 0.6259 - val_accuracy: 0.6726\n",
            "\n",
            "Epoch 6/15\n",
            "134/134 - 6s - loss: 0.6455 - accuracy: 0.6257 - val_loss: 0.5867 - val_accuracy: 0.7022\n",
            "\n",
            "Epoch 7/15\n",
            "134/134 - 6s - loss: 0.6333 - accuracy: 0.6405 - val_loss: 0.5769 - val_accuracy: 0.7004\n",
            "\n",
            "Epoch 8/15\n",
            "134/134 - 6s - loss: 0.6282 - accuracy: 0.6457 - val_loss: 0.6223 - val_accuracy: 0.6516\n",
            "\n",
            "Epoch 9/15\n",
            "134/134 - 6s - loss: 0.6181 - accuracy: 0.6566 - val_loss: 0.5722 - val_accuracy: 0.7038\n",
            "\n",
            "Epoch 10/15\n",
            "134/134 - 6s - loss: 0.6096 - accuracy: 0.6652 - val_loss: 0.5425 - val_accuracy: 0.7389\n",
            "\n",
            "Epoch 11/15\n",
            "134/134 - 6s - loss: 0.5999 - accuracy: 0.6758 - val_loss: 0.5238 - val_accuracy: 0.7447\n",
            "\n",
            "Epoch 12/15\n",
            "134/134 - 6s - loss: 0.5936 - accuracy: 0.6777 - val_loss: 0.5259 - val_accuracy: 0.7307\n",
            "\n",
            "Epoch 13/15\n",
            "134/134 - 6s - loss: 0.5867 - accuracy: 0.6867 - val_loss: 0.5073 - val_accuracy: 0.7402\n",
            "\n",
            "Epoch 14/15\n",
            "134/134 - 6s - loss: 0.5796 - accuracy: 0.6950 - val_loss: 0.5344 - val_accuracy: 0.7123\n",
            "\n",
            "Epoch 15/15\n",
            "134/134 - 6s - loss: 0.5717 - accuracy: 0.6969 - val_loss: 0.5382 - val_accuracy: 0.7132\n",
            "\n",
            "Best validation acc of epoch:\n",
            "0.7446794509887695\n",
            "Epoch 1/10\n",
            "535/535 - 20s - loss: 0.6176 - accuracy: 0.6573 - val_loss: 0.4663 - val_accuracy: 0.7959\n",
            "\n",
            "Epoch 2/10\n",
            "535/535 - 20s - loss: 0.5146 - accuracy: 0.7481 - val_loss: 0.4118 - val_accuracy: 0.8174\n",
            "\n",
            "Epoch 3/10\n",
            "535/535 - 20s - loss: 0.4607 - accuracy: 0.7834 - val_loss: 0.3900 - val_accuracy: 0.8277\n",
            "\n",
            "Epoch 4/10\n",
            "535/535 - 20s - loss: 0.4303 - accuracy: 0.8002 - val_loss: 0.3845 - val_accuracy: 0.8293\n",
            "\n",
            "Epoch 5/10\n",
            "535/535 - 19s - loss: 0.4098 - accuracy: 0.8154 - val_loss: 0.3807 - val_accuracy: 0.8466\n",
            "\n",
            "Epoch 6/10\n",
            "535/535 - 19s - loss: 0.3859 - accuracy: 0.8300 - val_loss: 0.3390 - val_accuracy: 0.8545\n",
            "\n",
            "Epoch 7/10\n",
            "535/535 - 19s - loss: 0.3777 - accuracy: 0.8348 - val_loss: 0.3419 - val_accuracy: 0.8512\n",
            "\n",
            "Epoch 8/10\n",
            "535/535 - 19s - loss: 0.3605 - accuracy: 0.8421 - val_loss: 0.3520 - val_accuracy: 0.8462\n",
            "\n",
            "Epoch 9/10\n",
            "535/535 - 19s - loss: 0.3508 - accuracy: 0.8467 - val_loss: 0.3278 - val_accuracy: 0.8597\n",
            "\n",
            "Epoch 10/10\n",
            "535/535 - 19s - loss: 0.3419 - accuracy: 0.8523 - val_loss: 0.3624 - val_accuracy: 0.8515\n",
            "\n",
            "Best validation acc of epoch:\n",
            "0.8597099184989929\n",
            "Epoch 1/20\n",
            "268/268 - 31s - loss: 0.4558 - accuracy: 0.7844 - val_loss: 0.3526 - val_accuracy: 0.8512\n",
            "\n",
            "Epoch 2/20\n",
            "268/268 - 30s - loss: 0.2844 - accuracy: 0.8842 - val_loss: 0.3375 - val_accuracy: 0.8626\n",
            "\n",
            "Epoch 3/20\n",
            "268/268 - 26s - loss: 0.1948 - accuracy: 0.9255 - val_loss: 0.3431 - val_accuracy: 0.8616\n",
            "\n",
            "Epoch 4/20\n",
            "268/268 - 26s - loss: 0.1370 - accuracy: 0.9508 - val_loss: 0.3974 - val_accuracy: 0.8565\n",
            "\n",
            "Epoch 5/20\n",
            "268/268 - 27s - loss: 0.0950 - accuracy: 0.9667 - val_loss: 0.5797 - val_accuracy: 0.8590\n",
            "\n",
            "Epoch 6/20\n",
            "268/268 - 26s - loss: 0.0685 - accuracy: 0.9764 - val_loss: 0.6168 - val_accuracy: 0.8533\n",
            "\n",
            "Epoch 7/20\n",
            "268/268 - 27s - loss: 0.0488 - accuracy: 0.9826 - val_loss: 0.5687 - val_accuracy: 0.8500\n",
            "\n",
            "Epoch 8/20\n",
            "268/268 - 26s - loss: 0.0358 - accuracy: 0.9881 - val_loss: 0.9715 - val_accuracy: 0.8523\n",
            "\n",
            "Epoch 9/20\n",
            "268/268 - 28s - loss: 0.0310 - accuracy: 0.9894 - val_loss: 0.7153 - val_accuracy: 0.8499\n",
            "\n",
            "Epoch 10/20\n",
            "268/268 - 26s - loss: 0.0212 - accuracy: 0.9931 - val_loss: 0.8824 - val_accuracy: 0.8434\n",
            "\n",
            "Epoch 11/20\n",
            "268/268 - 29s - loss: 0.0193 - accuracy: 0.9936 - val_loss: 0.8726 - val_accuracy: 0.8448\n",
            "\n",
            "Epoch 12/20\n",
            "268/268 - 26s - loss: 0.0116 - accuracy: 0.9961 - val_loss: 1.1609 - val_accuracy: 0.8456\n",
            "\n",
            "Epoch 13/20\n",
            "268/268 - 26s - loss: 0.0145 - accuracy: 0.9952 - val_loss: 0.8256 - val_accuracy: 0.8478\n",
            "\n",
            "Epoch 14/20\n",
            "268/268 - 27s - loss: 0.0088 - accuracy: 0.9970 - val_loss: 1.1776 - val_accuracy: 0.8488\n",
            "\n",
            "Epoch 15/20\n",
            "268/268 - 25s - loss: 0.0073 - accuracy: 0.9976 - val_loss: 1.0223 - val_accuracy: 0.8425\n",
            "\n",
            "Epoch 16/20\n",
            "268/268 - 27s - loss: 0.0083 - accuracy: 0.9973 - val_loss: 1.2828 - val_accuracy: 0.8426\n",
            "\n",
            "Epoch 17/20\n",
            "268/268 - 25s - loss: 0.0068 - accuracy: 0.9979 - val_loss: 1.0110 - val_accuracy: 0.8408\n",
            "\n",
            "Epoch 18/20\n",
            "268/268 - 27s - loss: 0.0082 - accuracy: 0.9972 - val_loss: 1.1156 - val_accuracy: 0.8416\n",
            "\n",
            "Epoch 19/20\n",
            "268/268 - 26s - loss: 0.0080 - accuracy: 0.9973 - val_loss: 1.1996 - val_accuracy: 0.8464\n",
            "\n",
            "Epoch 20/20\n",
            "268/268 - 28s - loss: 0.0037 - accuracy: 0.9989 - val_loss: 1.2244 - val_accuracy: 0.8444\n",
            "\n",
            "Best validation acc of epoch:\n",
            "0.8625831007957458\n",
            "100%|██████████| 5/5 [22:00<00:00, 264.05s/it, best loss: -0.8705100417137146]\n",
            "Evalutation of best performing model:\n",
            "167/167 [==============================] - 2s 13ms/step - loss: 0.3492 - accuracy: 0.8715\n",
            "[0.34924209117889404, 0.871493935585022]\n",
            "Best performing model chosen hyper-parameters:\n",
            "{'Activation': 1, 'LSTM': 2, 'LSTM_1': 2, 'batch_size': 2, 'dropout': 0.8366666847115819, 'dropout_1': 0.9128294469805703, 'epochs': 2, 'optimizer': 0}\n"
          ],
          "name": "stdout"
        }
      ]
    },
    {
      "cell_type": "code",
      "metadata": {
        "id": "QhGVyUAFTY-Z",
        "colab_type": "code",
        "colab": {}
      },
      "source": [
        "vocab_size = num_words\n",
        "model = Sequential()\n",
        "model.add(Embedding(vocab_size ,embedding_size,weights=[embedding_matrix],input_length=maxlen))\n",
        "model.add(Bidirectional(LSTM(512,dropout=0.8366666847115819,return_sequences=True)))\n",
        "model.add(Dense(128,activation='sigmoid'))\n",
        "model.add(Dropout(0.9128294469805703))\n",
        "model.add(Dense(1,activation='sigmoid'))\n",
        "\n",
        "# {'Activation': 1, 'LSTM': 2, 'LSTM_1': 2, 'batch_size': 2, 'dropout': 0.8366666847115819, 'dropout_1': 0.9128294469805703, 'epochs': 2, 'optimizer': 0}"
      ],
      "execution_count": 172,
      "outputs": []
    },
    {
      "cell_type": "code",
      "metadata": {
        "id": "6Hn1JDolWbOW",
        "colab_type": "code",
        "colab": {
          "base_uri": "https://localhost:8080/",
          "height": 323
        },
        "outputId": "6b3a1042-1638-4162-ea7f-adecafd2a4a0"
      },
      "source": [
        "model.summary()"
      ],
      "execution_count": 163,
      "outputs": [
        {
          "output_type": "stream",
          "text": [
            "Model: \"sequential_28\"\n",
            "_________________________________________________________________\n",
            "Layer (type)                 Output Shape              Param #   \n",
            "=================================================================\n",
            "embedding_23 (Embedding)     (None, 25, 200)           5680000   \n",
            "_________________________________________________________________\n",
            "bidirectional_22 (Bidirectio (None, 25, 1024)          2920448   \n",
            "_________________________________________________________________\n",
            "dense_44 (Dense)             (None, 25, 128)           131200    \n",
            "_________________________________________________________________\n",
            "dropout_22 (Dropout)         (None, 25, 128)           0         \n",
            "_________________________________________________________________\n",
            "dense_45 (Dense)             (None, 25, 1)             129       \n",
            "=================================================================\n",
            "Total params: 8,731,777\n",
            "Trainable params: 8,731,777\n",
            "Non-trainable params: 0\n",
            "_________________________________________________________________\n"
          ],
          "name": "stdout"
        }
      ]
    },
    {
      "cell_type": "code",
      "metadata": {
        "id": "KkslNe6aWf7-",
        "colab_type": "code",
        "colab": {
          "base_uri": "https://localhost:8080/",
          "height": 564
        },
        "outputId": "57e75f80-b237-4a42-dc42-456e396c4f86"
      },
      "source": [
        "plot_model(model,'Sarcasm_detection_model.png')"
      ],
      "execution_count": 156,
      "outputs": [
        {
          "output_type": "execute_result",
          "data": {
            "image/png": "[encoded data removed]",
            "text/plain": [
              "<IPython.core.display.Image object>"
            ]
          },
          "metadata": {
            "tags": []
          },
          "execution_count": 156
        }
      ]
    },
    {
      "cell_type": "markdown",
      "metadata": {
        "colab_type": "text",
        "id": "xoI7_8Y1cqTj"
      },
      "source": [
        "### Compile the model (3 Marks)"
      ]
    },
    {
      "cell_type": "code",
      "metadata": {
        "colab_type": "code",
        "id": "-jJiPHeNoJ3U",
        "colab": {}
      },
      "source": [
        "model.compile(optimizer='adam',loss='binary_crossentropy',metrics=['accuracy'])"
      ],
      "execution_count": 173,
      "outputs": []
    },
    {
      "cell_type": "markdown",
      "metadata": {
        "colab_type": "text",
        "id": "7s4nmqcecw3a"
      },
      "source": [
        "### Fit the model (4 Marks)"
      ]
    },
    {
      "cell_type": "code",
      "metadata": {
        "id": "znxZTIw9yXgt",
        "colab_type": "code",
        "colab": {}
      },
      "source": [
        "from tensorflow.keras.callbacks import EarlyStopping,ModelCheckpoint\n",
        "\n",
        "es = EarlyStopping(monitor='val_loss',min_delta=0.01,patience=2)\n",
        "filepath=\"weights-improvement-{epoch:02d}-{val_loss:.2f}.hdf5\"\n",
        "checkpoint = ModelCheckpoint(filepath,\n",
        "                             monitor='val_loss',\n",
        "                             verbose=1,\n",
        "                             save_best_only=True,\n",
        "                             save_weights_only=True,\n",
        "                             mode='max'\n",
        "                            )\n"
      ],
      "execution_count": 174,
      "outputs": []
    },
    {
      "cell_type": "code",
      "metadata": {
        "id": "xZYmkB0MZSNw",
        "colab_type": "code",
        "colab": {
          "base_uri": "https://localhost:8080/",
          "height": 357
        },
        "outputId": "40a88ed6-39f5-4f51-ae0e-a590437473c6"
      },
      "source": [
        "batch_size = 128\n",
        "epochs = 10\n",
        "result = model.fit(X_train,y_train,epochs=epochs,batch_size=batch_size,verbose=1,validation_split=0.2) # callbacks=[es,checkpoint]"
      ],
      "execution_count": 175,
      "outputs": [
        {
          "output_type": "stream",
          "text": [
            "Epoch 1/10\n",
            "134/134 [==============================] - 19s 140ms/step - loss: 0.7097 - accuracy: 0.5551 - val_loss: 0.6881 - val_accuracy: 0.5538\n",
            "Epoch 2/10\n",
            "134/134 [==============================] - 16s 121ms/step - loss: 0.6871 - accuracy: 0.5629 - val_loss: 0.6873 - val_accuracy: 0.5538\n",
            "Epoch 3/10\n",
            "134/134 [==============================] - 16s 116ms/step - loss: 0.6869 - accuracy: 0.5627 - val_loss: 0.6856 - val_accuracy: 0.5538\n",
            "Epoch 4/10\n",
            "134/134 [==============================] - 16s 116ms/step - loss: 0.6663 - accuracy: 0.5630 - val_loss: 0.5966 - val_accuracy: 0.5584\n",
            "Epoch 5/10\n",
            "134/134 [==============================] - 16s 121ms/step - loss: 0.6118 - accuracy: 0.6069 - val_loss: 0.5180 - val_accuracy: 0.7459\n",
            "Epoch 6/10\n",
            "134/134 [==============================] - 16s 116ms/step - loss: 0.5497 - accuracy: 0.7017 - val_loss: 0.4148 - val_accuracy: 0.8150\n",
            "Epoch 7/10\n",
            "134/134 [==============================] - 15s 115ms/step - loss: 0.4772 - accuracy: 0.7814 - val_loss: 0.3745 - val_accuracy: 0.8321\n",
            "Epoch 8/10\n",
            "134/134 [==============================] - 16s 118ms/step - loss: 0.4224 - accuracy: 0.8186 - val_loss: 0.3587 - val_accuracy: 0.8423\n",
            "Epoch 9/10\n",
            "134/134 [==============================] - 16s 116ms/step - loss: 0.3929 - accuracy: 0.8352 - val_loss: 0.3310 - val_accuracy: 0.8546\n",
            "Epoch 10/10\n",
            "134/134 [==============================] - 16s 116ms/step - loss: 0.3634 - accuracy: 0.8534 - val_loss: 0.3426 - val_accuracy: 0.8554\n"
          ],
          "name": "stdout"
        }
      ]
    },
    {
      "cell_type": "code",
      "metadata": {
        "id": "FPpwdGYZZxVn",
        "colab_type": "code",
        "colab": {
          "base_uri": "https://localhost:8080/",
          "height": 51
        },
        "outputId": "bdb097a8-2e95-4e2a-e376-19e767a37bcd"
      },
      "source": [
        "model.evaluate(X_test,y_test)"
      ],
      "execution_count": 176,
      "outputs": [
        {
          "output_type": "stream",
          "text": [
            "167/167 [==============================] - 2s 14ms/step - loss: 0.3448 - accuracy: 0.8614\n"
          ],
          "name": "stdout"
        },
        {
          "output_type": "execute_result",
          "data": {
            "text/plain": [
              "[0.34476619958877563, 0.8614002466201782]"
            ]
          },
          "metadata": {
            "tags": []
          },
          "execution_count": 176
        }
      ]
    },
    {
      "cell_type": "code",
      "metadata": {
        "id": "nMg0riUvbOJp",
        "colab_type": "code",
        "colab": {
          "base_uri": "https://localhost:8080/",
          "height": 296
        },
        "outputId": "acbd07b5-200f-4441-8b99-9e53045d3d66"
      },
      "source": [
        "import matplotlib.pyplot as plt\n",
        "%matplotlib inline\n",
        "\n",
        "plt.plot(result.history['val_loss'])\n",
        "plt.plot(result.history['loss'])\n",
        "plt.xlabel('Train')\n",
        "plt.ylabel('Test')"
      ],
      "execution_count": 177,
      "outputs": [
        {
          "output_type": "execute_result",
          "data": {
            "text/plain": [
              "Text(0, 0.5, 'Test')"
            ]
          },
          "metadata": {
            "tags": []
          },
          "execution_count": 177
        },
        {
          "output_type": "display_data",
          "data": {
            "image/png": "[encoded data removed]",
            "text/plain": [
              "<Figure size 432x288 with 1 Axes>"
            ]
          },
          "metadata": {
            "tags": [],
            "needs_background": "light"
          }
        }
      ]
    },
    {
      "cell_type": "code",
      "metadata": {
        "id": "3OyFCgQfzqNj",
        "colab_type": "code",
        "colab": {
          "base_uri": "https://localhost:8080/",
          "height": 296
        },
        "outputId": "6d99db56-3fec-41d8-9ba5-9b9b26e3e048"
      },
      "source": [
        "plt.plot(result.history['val_accuracy'])\n",
        "plt.plot(result.history['accuracy'])\n",
        "plt.xlabel('Train')\n",
        "plt.ylabel('Test')"
      ],
      "execution_count": 178,
      "outputs": [
        {
          "output_type": "execute_result",
          "data": {
            "text/plain": [
              "Text(0, 0.5, 'Test')"
            ]
          },
          "metadata": {
            "tags": []
          },
          "execution_count": 178
        },
        {
          "output_type": "display_data",
          "data": {
            "image/png": "[encoded data removed]",
            "text/plain": [
              "<Figure size 432x288 with 1 Axes>"
            ]
          },
          "metadata": {
            "tags": [],
            "needs_background": "light"
          }
        }
      ]
    },
    {
      "cell_type": "markdown",
      "metadata": {
        "id": "gzQuSxVeAOsV",
        "colab_type": "text"
      },
      "source": [
        "**SAVE** MODEL"
      ]
    },
    {
      "cell_type": "code",
      "metadata": {
        "id": "JcwOusQk0KVK",
        "colab_type": "code",
        "colab": {}
      },
      "source": [
        "model_json  = model.to_json()\n",
        "with open('model.json','w') as json_file:\n",
        "  json_file.write(model_json)\n",
        "\n",
        "model.save_weights('model_weights.h5')"
      ],
      "execution_count": 180,
      "outputs": []
    },
    {
      "cell_type": "code",
      "metadata": {
        "id": "jroUB8kYALb3",
        "colab_type": "code",
        "colab": {}
      },
      "source": [
        ""
      ],
      "execution_count": null,
      "outputs": []
    }
  ]
}